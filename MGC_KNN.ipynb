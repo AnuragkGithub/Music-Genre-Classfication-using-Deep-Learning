{
  "nbformat": 4,
  "nbformat_minor": 0,
  "metadata": {
    "colab": {
      "provenance": []
    },
    "kernelspec": {
      "name": "python3",
      "display_name": "Python 3"
    },
    "language_info": {
      "name": "python"
    }
  },
  "cells": [
    {
      "cell_type": "code",
      "source": [
        "from google.colab import drive\n",
        "drive.mount('/content/drive')"
      ],
      "metadata": {
        "id": "dgI6WfY0lQNG",
        "colab": {
          "base_uri": "https://localhost:8080/"
        },
        "outputId": "95c837a2-82e1-4197-dd5b-c11193957e25"
      },
      "execution_count": null,
      "outputs": [
        {
          "output_type": "stream",
          "name": "stdout",
          "text": [
            "Mounted at /content/drive\n"
          ]
        }
      ]
    },
    {
      "cell_type": "code",
      "source": [
        "from sklearn.neighbors import KNeighborsClassifier\n",
        "from sklearn.metrics import confusion_matrix\n",
        "from sklearn.datasets import load_iris\n",
        "from sklearn.model_selection import train_test_split\n",
        "import matplotlib.pyplot as plt\n",
        "import seaborn as sns\n",
        "import os\n",
        "Root = \"/content/drive/MyDrive/Data/genres_original/\"\n",
        "os.chdir(Root)"
      ],
      "metadata": {
        "id": "7Aj43tB0lWmr"
      },
      "execution_count": null,
      "outputs": []
    },
    {
      "cell_type": "code",
      "execution_count": null,
      "metadata": {
        "colab": {
          "base_uri": "https://localhost:8080/"
        },
        "id": "IRwOmaQ3N09s",
        "outputId": "9521f5f3-056f-4c60-ac3d-94f147744034"
      },
      "outputs": [
        {
          "output_type": "stream",
          "name": "stdout",
          "text": [
            "Looking in indexes: https://pypi.org/simple, https://us-python.pkg.dev/colab-wheels/public/simple/\n",
            "Collecting python_speech_features\n",
            "  Downloading python_speech_features-0.6.tar.gz (5.6 kB)\n",
            "  Preparing metadata (setup.py) ... \u001b[?25l\u001b[?25hdone\n",
            "Building wheels for collected packages: python_speech_features\n",
            "  Building wheel for python_speech_features (setup.py) ... \u001b[?25l\u001b[?25hdone\n",
            "  Created wheel for python_speech_features: filename=python_speech_features-0.6-py3-none-any.whl size=5886 sha256=39079651d3d94e0aebde2516f5e3b6213ad852c184f1a98f5832efbc764be2e1\n",
            "  Stored in directory: /root/.cache/pip/wheels/5a/9e/68/30bad9462b3926c29e315df16b562216d12bdc215f4d240294\n",
            "Successfully built python_speech_features\n",
            "Installing collected packages: python_speech_features\n",
            "Successfully installed python_speech_features-0.6\n",
            "Looking in indexes: https://pypi.org/simple, https://us-python.pkg.dev/colab-wheels/public/simple/\n",
            "Requirement already satisfied: scipy in /usr/local/lib/python3.10/dist-packages (1.10.1)\n",
            "Requirement already satisfied: numpy<1.27.0,>=1.19.5 in /usr/local/lib/python3.10/dist-packages (from scipy) (1.22.4)\n"
          ]
        }
      ],
      "source": [
        "!pip install python_speech_features\n",
        "!pip install scipy"
      ]
    },
    {
      "cell_type": "code",
      "source": [
        "import numpy as np\n",
        "import pandas as pd\n",
        "import scipy.io.wavfile as wav\n",
        "from python_speech_features import mfcc\n",
        "from tempfile import TemporaryFile\n",
        "import os\n",
        "import math\n",
        "import pickle\n",
        "import random\n",
        "import operator"
      ],
      "metadata": {
        "id": "xrWz5HxxO4a4"
      },
      "execution_count": null,
      "outputs": []
    },
    {
      "cell_type": "code",
      "source": [
        "def getNeighbors(trainingset, instance, k):\n",
        "    distances = []\n",
        "    for x in range(len(trainingset)):\n",
        "        dist = distance(trainingset[x], instance, k) + distance(instance,trainingset[x],k)\n",
        "        distances.append((trainingset[x][2], dist))\n",
        "    distances.sort(key=operator.itemgetter(1))\n",
        "    neighbors = []\n",
        "    for x in range(k):\n",
        "        neighbors.append(distances[x][0])\n",
        "    return neighbors"
      ],
      "metadata": {
        "id": "a23HE3uAUJTE"
      },
      "execution_count": null,
      "outputs": []
    },
    {
      "cell_type": "code",
      "source": [
        "def nearestclass(neighbors):\n",
        "    classVote = {}\n",
        "\n",
        "    for x in range(len(neighbors)):\n",
        "        response = neighbors[x]\n",
        "        if response in classVote:\n",
        "            classVote[response] += 1\n",
        "        else:\n",
        "            classVote[response] = 1\n",
        "\n",
        "    sorter = sorted(classVote.items(), key=operator.itemgetter(1), reverse=True)\n",
        "    return sorter[0][0]"
      ],
      "metadata": {
        "id": "F_azHGIYUaHB"
      },
      "execution_count": null,
      "outputs": []
    },
    {
      "cell_type": "code",
      "source": [
        "def getAccuracy(testSet, prediction):\n",
        "    correct = 0\n",
        "    for x in range(len(testSet)):\n",
        "        if testSet[x][-1] == prediction[x]:\n",
        "            correct += 1\n",
        "    return 1.0 * correct / len(testSet)"
      ],
      "metadata": {
        "id": "CHE7o5TRUdkd"
      },
      "execution_count": null,
      "outputs": []
    },
    {
      "cell_type": "code",
      "source": [
        "directory = \"/content/drive/MyDrive/Data/genres_original/\"\n",
        "f = open(\"mydataset.dat\", \"wb\")\n",
        "i = 0\n",
        "for folder in os.listdir(directory):\n",
        "    #print(folder)\n",
        "    i += 1\n",
        "    if i == 11:\n",
        "        break\n",
        "    for file in os.listdir(directory+\"/\"+folder):\n",
        "        #print(file)\n",
        "        try:\n",
        "            (rate, sig) = wav.read(directory+\"/\"+folder+\"/\"+file)\n",
        "            mfcc_feat = mfcc(sig, rate, winlen = 0.020, appendEnergy=False)\n",
        "            covariance = np.cov(np.matrix.transpose(mfcc_feat))\n",
        "            mean_matrix = mfcc_feat.mean(0)\n",
        "            feature = (mean_matrix, covariance, i)\n",
        "            pickle.dump(feature, f)\n",
        "        except Exception as e:\n",
        "            print(\"Got an exception: \", e, 'in folder: ', folder, ' filename: ', file)\n",
        "f.close()"
      ],
      "metadata": {
        "colab": {
          "base_uri": "https://localhost:8080/"
        },
        "id": "ombEZJB-Uf8l",
        "outputId": "751caf8a-b072-4289-f6f0-e2328d103996"
      },
      "execution_count": null,
      "outputs": [
        {
          "output_type": "stream",
          "name": "stdout",
          "text": [
            "Got an exception:  File format b'\\xcb\\x15\\x1e\\x16' not understood. Only 'RIFF' and 'RIFX' supported. in folder:  jazz  filename:  jazz.00054.wav\n"
          ]
        }
      ]
    },
    {
      "cell_type": "code",
      "source": [
        "dataset = []\n",
        "\n",
        "def loadDataset(filename, split, trset, teset):\n",
        "    with open('mydataset.dat','rb') as f:\n",
        "        while True:\n",
        "            try:\n",
        "                dataset.append(pickle.load(f))\n",
        "            except EOFError:\n",
        "                f.close()\n",
        "                break\n",
        "    for x in range(len(dataset)):\n",
        "        if random.random() < split:\n",
        "            trset.append(dataset[x])\n",
        "        else:\n",
        "            teset.append(dataset[x])\n",
        "\n",
        "trainingSet = []\n",
        "testSet = []\n",
        "loadDataset('my.dat', 0.94, trainingSet, testSet)\n",
        "print(loadDataset)"
      ],
      "metadata": {
        "id": "I9NvBE1lUjyV",
        "colab": {
          "base_uri": "https://localhost:8080/"
        },
        "outputId": "6cbea0c8-26bd-4aec-d72e-55e68f56521b"
      },
      "execution_count": null,
      "outputs": [
        {
          "output_type": "stream",
          "name": "stdout",
          "text": [
            "<function loadDataset at 0x7fa2a2769ab0>\n"
          ]
        }
      ]
    },
    {
      "cell_type": "code",
      "source": [
        "def distance(instance1, instance2, k):\n",
        "    distance = 0\n",
        "    mm1 = instance1[0]\n",
        "    cm1 = instance1[1]\n",
        "    mm2 = instance2[0]\n",
        "    cm2 = instance2[1]\n",
        "    distance = np.trace(np.dot(np.linalg.inv(cm2), cm1))\n",
        "    distance += (np.dot(np.dot((mm2-mm1).transpose(), np.linalg.inv(cm2)), mm2-mm1))\n",
        "    distance += np.log(np.linalg.det(cm2)) - np.log(np.linalg.det(cm1))\n",
        "    distance -= k\n",
        "    return distance"
      ],
      "metadata": {
        "id": "YMJos6lUABKE"
      },
      "execution_count": null,
      "outputs": []
    },
    {
      "cell_type": "code",
      "source": [
        "length = len(testSet)\n",
        "predictions = []\n",
        "for x in range(length):\n",
        "    predictions.append(nearestclass(getNeighbors(trainingSet, testSet[x], 5)))\n",
        "\n",
        "accuracy1 = getAccuracy(testSet, predictions)\n",
        "print(accuracy1)"
      ],
      "metadata": {
        "colab": {
          "base_uri": "https://localhost:8080/"
        },
        "id": "24_cRYu6ADeZ",
        "outputId": "767e6b97-f60f-47be-8333-06a4fc6f6673"
      },
      "execution_count": null,
      "outputs": [
        {
          "output_type": "stream",
          "name": "stdout",
          "text": [
            "0.7719298245614035\n"
          ]
        }
      ]
    },
    {
      "cell_type": "code",
      "source": [
        "iris = load_iris()\n",
        "X_train, X_test, y_train, y_test = train_test_split(iris.data, iris.target, test_size=0.66)\n",
        "knn = KNeighborsClassifier(n_neighbors=5)\n",
        "knn.fit(X_train, y_train)\n",
        "y_pred = knn.predict(X_test)\n",
        "cm = confusion_matrix(y_test, y_pred)\n",
        "sns.heatmap(cm, annot=True, cmap=\"Blues\", fmt=\"d\")\n",
        "plt.title(\"Confusion Matrix\")\n",
        "plt.xlabel(\"Predicted Class\")\n",
        "plt.ylabel(\"True Class\")\n",
        "plt.show()\n",
        "from sklearn.metrics import accuracy_score\n",
        "print (\"Accuracy : \", accuracy_score(y_test, y_pred))\n",
        "cm"
      ],
      "metadata": {
        "colab": {
          "base_uri": "https://localhost:8080/",
          "height": 543
        },
        "id": "0-WMHUqy-bxg",
        "outputId": "964d9087-8c7d-4720-f2f8-d140490df177"
      },
      "execution_count": null,
      "outputs": [
        {
          "output_type": "display_data",
          "data": {
            "text/plain": [
              "<Figure size 640x480 with 2 Axes>"
            ],
            "image/png": "[encoded data removed]"
          },
          "metadata": {}
        },
        {
          "output_type": "stream",
          "name": "stdout",
          "text": [
            "Accuracy :  0.9494949494949495\n"
          ]
        },
        {
          "output_type": "execute_result",
          "data": {
            "text/plain": [
              "array([[35,  0,  0],\n",
              "       [ 0, 33,  5],\n",
              "       [ 0,  0, 26]])"
            ]
          },
          "metadata": {},
          "execution_count": 12
        }
      ]
    },
    {
      "cell_type": "code",
      "source": [
        "from collections import defaultdict\n",
        "results = defaultdict(int)\n",
        "\n",
        "directory = \"/content/drive/MyDrive/Data/genres_original/\"\n",
        "\n",
        "i = 1\n",
        "for folder in os.listdir(directory):\n",
        "    results[i] = folder\n",
        "    i += 1"
      ],
      "metadata": {
        "id": "BxDhhztTAL5g"
      },
      "execution_count": null,
      "outputs": []
    },
    {
      "cell_type": "code",
      "source": [
        "pred=nearestclass(getNeighbors(dataset,feature,5))\n",
        "print(results[pred])"
      ],
      "metadata": {
        "colab": {
          "base_uri": "https://localhost:8080/"
        },
        "id": "WG43Lv2J88h3",
        "outputId": "cc08e7f6-c395-409d-b12e-0336f82e2ee6"
      },
      "execution_count": null,
      "outputs": [
        {
          "output_type": "stream",
          "name": "stdout",
          "text": [
            "metal\n"
          ]
        }
      ]
    }
  ]
}